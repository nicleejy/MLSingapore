{
 "cells": [
  {
   "cell_type": "markdown",
   "metadata": {
    "id": "-XHd4GNVcI4F"
   },
   "source": [
    "# Retrieve Images from nutrition5k dataset\n",
    "\n",
    "The following scripts will copy `1000` valid dishes folder from `nutrition5k_dataset/nutrition5k_dataset/imagery/realsense_overhead`.\n"
   ]
  },
  {
   "cell_type": "code",
   "execution_count": 1,
   "metadata": {
    "colab": {
     "base_uri": "https://localhost:8080/"
    },
    "id": "5zB5QHujwrHr",
    "outputId": "c0b89b91-f6ca-433c-fe41-b492418b323d"
   },
   "outputs": [
    {
     "name": "stdout",
     "output_type": "stream",
     "text": [
      "rm: cannot remove 'sample_data': No such file or directory\n",
      "mkdir: cannot create directory ‘imagery’: File exists\n",
      "mkdir: cannot create directory ‘imagery/realsense_overhead’: File exists\n",
      "mkdir: cannot create directory ‘metadata’: File exists\n"
     ]
    }
   ],
   "source": [
    "!rm -r sample_data\n",
    "!mkdir imagery imagery/realsense_overhead metadata"
   ]
  },
  {
   "cell_type": "markdown",
   "metadata": {
    "id": "hF6YkLRwEDFQ"
   },
   "source": [
    "I need to manually upload `dish_metadata_cafe1.csv` into `./metadata/`\n",
    "\n"
   ]
  },
  {
   "cell_type": "code",
   "execution_count": 2,
   "metadata": {
    "id": "dwzsNSGu35CL"
   },
   "outputs": [],
   "source": [
    "import pandas as pd\n",
    "import os\n",
    "import subprocess"
   ]
  },
  {
   "cell_type": "code",
   "execution_count": 3,
   "metadata": {
    "colab": {
     "base_uri": "https://localhost:8080/",
     "height": 308
    },
    "id": "56hMoxQt3_CQ",
    "outputId": "440d555a-6029-4403-cc5b-92c24a9cba1c"
   },
   "outputs": [
    {
     "data": {
      "text/html": [
       "<div>\n",
       "<style scoped>\n",
       "    .dataframe tbody tr th:only-of-type {\n",
       "        vertical-align: middle;\n",
       "    }\n",
       "\n",
       "    .dataframe tbody tr th {\n",
       "        vertical-align: top;\n",
       "    }\n",
       "\n",
       "    .dataframe thead th {\n",
       "        text-align: right;\n",
       "    }\n",
       "</style>\n",
       "<table border=\"1\" class=\"dataframe\">\n",
       "  <thead>\n",
       "    <tr style=\"text-align: right;\">\n",
       "      <th></th>\n",
       "      <th>dish_1561662216</th>\n",
       "      <th>300.794281</th>\n",
       "      <th>193.000000</th>\n",
       "      <th>12.387489</th>\n",
       "      <th>28.218290</th>\n",
       "      <th>18.633970</th>\n",
       "      <th>ingr_0000000508</th>\n",
       "      <th>soy sauce</th>\n",
       "      <th>3.398568</th>\n",
       "      <th>1.80124104</th>\n",
       "      <th>...</th>\n",
       "      <th>0.000424822</th>\n",
       "      <th>0.019754223</th>\n",
       "      <th>0.00424822</th>\n",
       "      <th>ingr_0000000513</th>\n",
       "      <th>millet</th>\n",
       "      <th>3.414345</th>\n",
       "      <th>4.06307055</th>\n",
       "      <th>0.03414345</th>\n",
       "      <th>0.809199765</th>\n",
       "      <th>0.119502075</th>\n",
       "    </tr>\n",
       "  </thead>\n",
       "  <tbody>\n",
       "    <tr>\n",
       "      <th>0</th>\n",
       "      <td>dish_1562688426</td>\n",
       "      <td>137.569992</td>\n",
       "      <td>88.0</td>\n",
       "      <td>8.256000</td>\n",
       "      <td>5.190000</td>\n",
       "      <td>10.297000</td>\n",
       "      <td>ingr_0000000433</td>\n",
       "      <td>roasted potatoes</td>\n",
       "      <td>17.000000</td>\n",
       "      <td>23.970000</td>\n",
       "      <td>...</td>\n",
       "      <td>NaN</td>\n",
       "      <td>NaN</td>\n",
       "      <td>NaN</td>\n",
       "      <td>NaN</td>\n",
       "      <td>NaN</td>\n",
       "      <td>NaN</td>\n",
       "      <td>NaN</td>\n",
       "      <td>NaN</td>\n",
       "      <td>NaN</td>\n",
       "      <td>NaN</td>\n",
       "    </tr>\n",
       "    <tr>\n",
       "      <th>1</th>\n",
       "      <td>dish_1561662054</td>\n",
       "      <td>419.438782</td>\n",
       "      <td>292.0</td>\n",
       "      <td>23.838249</td>\n",
       "      <td>26.351543</td>\n",
       "      <td>25.910593</td>\n",
       "      <td>ingr_0000000312</td>\n",
       "      <td>pepper</td>\n",
       "      <td>0.300716</td>\n",
       "      <td>0.120286</td>\n",
       "      <td>...</td>\n",
       "      <td>0.0</td>\n",
       "      <td>0.0</td>\n",
       "      <td>0.0</td>\n",
       "      <td>ingr_0000000524</td>\n",
       "      <td>parsley</td>\n",
       "      <td>0.752816</td>\n",
       "      <td>0.279295</td>\n",
       "      <td>0.006023</td>\n",
       "      <td>0.04818</td>\n",
       "      <td>0.021832</td>\n",
       "    </tr>\n",
       "    <tr>\n",
       "      <th>2</th>\n",
       "      <td>dish_1562008979</td>\n",
       "      <td>382.936646</td>\n",
       "      <td>290.0</td>\n",
       "      <td>22.224644</td>\n",
       "      <td>10.173570</td>\n",
       "      <td>35.345387</td>\n",
       "      <td>ingr_0000000448</td>\n",
       "      <td>jalapenos</td>\n",
       "      <td>0.192961</td>\n",
       "      <td>0.055959</td>\n",
       "      <td>...</td>\n",
       "      <td>NaN</td>\n",
       "      <td>NaN</td>\n",
       "      <td>NaN</td>\n",
       "      <td>NaN</td>\n",
       "      <td>NaN</td>\n",
       "      <td>NaN</td>\n",
       "      <td>NaN</td>\n",
       "      <td>NaN</td>\n",
       "      <td>NaN</td>\n",
       "      <td>NaN</td>\n",
       "    </tr>\n",
       "    <tr>\n",
       "      <th>3</th>\n",
       "      <td>dish_1560455030</td>\n",
       "      <td>20.590000</td>\n",
       "      <td>103.0</td>\n",
       "      <td>0.148000</td>\n",
       "      <td>4.625000</td>\n",
       "      <td>0.956000</td>\n",
       "      <td>ingr_0000000471</td>\n",
       "      <td>cherry tomatoes</td>\n",
       "      <td>55.000000</td>\n",
       "      <td>9.900000</td>\n",
       "      <td>...</td>\n",
       "      <td>NaN</td>\n",
       "      <td>NaN</td>\n",
       "      <td>NaN</td>\n",
       "      <td>NaN</td>\n",
       "      <td>NaN</td>\n",
       "      <td>NaN</td>\n",
       "      <td>NaN</td>\n",
       "      <td>NaN</td>\n",
       "      <td>NaN</td>\n",
       "      <td>NaN</td>\n",
       "    </tr>\n",
       "    <tr>\n",
       "      <th>4</th>\n",
       "      <td>dish_1558372433</td>\n",
       "      <td>74.360001</td>\n",
       "      <td>143.0</td>\n",
       "      <td>0.286000</td>\n",
       "      <td>0.429000</td>\n",
       "      <td>20.020000</td>\n",
       "      <td>ingr_0000000453</td>\n",
       "      <td>deprecated</td>\n",
       "      <td>143.000000</td>\n",
       "      <td>74.360000</td>\n",
       "      <td>...</td>\n",
       "      <td>NaN</td>\n",
       "      <td>NaN</td>\n",
       "      <td>NaN</td>\n",
       "      <td>NaN</td>\n",
       "      <td>NaN</td>\n",
       "      <td>NaN</td>\n",
       "      <td>NaN</td>\n",
       "      <td>NaN</td>\n",
       "      <td>NaN</td>\n",
       "      <td>NaN</td>\n",
       "    </tr>\n",
       "  </tbody>\n",
       "</table>\n",
       "<p>5 rows × 125 columns</p>\n",
       "</div>"
      ],
      "text/plain": [
       "   dish_1561662216  300.794281  193.000000  12.387489  28.218290  18.633970  \\\n",
       "0  dish_1562688426  137.569992        88.0   8.256000   5.190000  10.297000   \n",
       "1  dish_1561662054  419.438782       292.0  23.838249  26.351543  25.910593   \n",
       "2  dish_1562008979  382.936646       290.0  22.224644  10.173570  35.345387   \n",
       "3  dish_1560455030   20.590000       103.0   0.148000   4.625000   0.956000   \n",
       "4  dish_1558372433   74.360001       143.0   0.286000   0.429000  20.020000   \n",
       "\n",
       "   ingr_0000000508         soy sauce    3.398568  1.80124104  ...  \\\n",
       "0  ingr_0000000433  roasted potatoes   17.000000   23.970000  ...   \n",
       "1  ingr_0000000312            pepper    0.300716    0.120286  ...   \n",
       "2  ingr_0000000448         jalapenos    0.192961    0.055959  ...   \n",
       "3  ingr_0000000471   cherry tomatoes   55.000000    9.900000  ...   \n",
       "4  ingr_0000000453        deprecated  143.000000   74.360000  ...   \n",
       "\n",
       "   0.000424822  0.019754223  0.00424822  ingr_0000000513   millet  3.414345  \\\n",
       "0          NaN          NaN         NaN              NaN      NaN       NaN   \n",
       "1          0.0          0.0         0.0  ingr_0000000524  parsley  0.752816   \n",
       "2          NaN          NaN         NaN              NaN      NaN       NaN   \n",
       "3          NaN          NaN         NaN              NaN      NaN       NaN   \n",
       "4          NaN          NaN         NaN              NaN      NaN       NaN   \n",
       "\n",
       "   4.06307055  0.03414345  0.809199765  0.119502075  \n",
       "0         NaN         NaN          NaN          NaN  \n",
       "1    0.279295    0.006023      0.04818     0.021832  \n",
       "2         NaN         NaN          NaN          NaN  \n",
       "3         NaN         NaN          NaN          NaN  \n",
       "4         NaN         NaN          NaN          NaN  \n",
       "\n",
       "[5 rows x 125 columns]"
      ]
     },
     "execution_count": 3,
     "metadata": {},
     "output_type": "execute_result"
    }
   ],
   "source": [
    "raw_data = pd.read_csv(\"./metadata/dish_metadata_cafe1.csv\", on_bad_lines='skip')\n",
    "raw_data.head()"
   ]
  },
  {
   "cell_type": "code",
   "execution_count": 4,
   "metadata": {
    "id": "DvRipoZQ7Lod"
   },
   "outputs": [],
   "source": [
    "dishes = raw_data.iloc[:, 0]\n",
    "dishes_added = []"
   ]
  },
  {
   "cell_type": "code",
   "execution_count": 5,
   "metadata": {
    "colab": {
     "base_uri": "https://localhost:8080/"
    },
    "id": "NEEOMWbU7ZaI",
    "outputId": "ed9b67db-d55b-48f2-d168-d97dbd272916"
   },
   "outputs": [],
   "source": [
    "# count = 0\n",
    "# destination_dir = './imagery/realsense_overhead'\n",
    "# for dish in dishes:\n",
    "#   try:\n",
    "#     # Copy the dish folder\n",
    "#     subprocess.run(['gsutil','-m', 'cp', '-r', f'gs://nutrition5k_dataset/nutrition5k_dataset/imagery/realsense_overhead/{dish}', destination_dir], check=True, stdout=subprocess.PIPE, stderr=subprocess.PIPE)\n",
    "#     print(f\"Copied {dish}\")\n",
    "#     count += 1\n",
    "#     dishes_added.append(dish)\n",
    "#     print(\"Current Count:\", count)\n",
    "#   except subprocess.CalledProcessError as e:\n",
    "#     print(f\"Error copying {dish}: {e}\")\n",
    "\n",
    "#   if count == 1000:\n",
    "#     break"
   ]
  },
  {
   "cell_type": "markdown",
   "metadata": {
    "id": "GE4zNzU_c9Wb"
   },
   "source": [
    "# Data Processing\n",
    "\n",
    "Reads the `rgb.png` image from all the dish folders.\n",
    "Then it uses `cv2` to convert the image into a 3D array with its respective RGB values.  "
   ]
  },
  {
   "cell_type": "code",
   "execution_count": 6,
   "metadata": {
    "id": "IC-jzj1qZDp1"
   },
   "outputs": [],
   "source": [
    "import pandas as pd\n",
    "import numpy as np\n",
    "import os\n",
    "import subprocess\n",
    "import cv2"
   ]
  },
  {
   "cell_type": "code",
   "execution_count": 7,
   "metadata": {
    "id": "Kd3hvrU3ZaRU"
   },
   "outputs": [],
   "source": [
    "def process_image(image_path):\n",
    "    image = cv2.imread(image_path)\n",
    "    rgb_image = cv2.cvtColor(image, cv2.COLOR_BGR2RGB)\n",
    "    return rgb_image"
   ]
  },
  {
   "cell_type": "code",
   "execution_count": 8,
   "metadata": {
    "id": "r9SHHLGSZncD"
   },
   "outputs": [],
   "source": [
    "base_dir = \"./imagery/realsense_overhead\"\n",
    "dishes_added = []\n",
    "processed_images = {}\n",
    "for directory in os.listdir(base_dir):\n",
    "    directory_path = os.path.join(base_dir, directory)\n",
    "\n",
    "    if os.path.isdir(directory_path):\n",
    "        dishes_added.append(directory)\n",
    "        rgb_image_path = os.path.join(directory_path, \"rgb.png\")\n",
    "        if os.path.isfile(rgb_image_path):\n",
    "            rgb_image = process_image(rgb_image_path)\n",
    "            processed_images[directory] = rgb_image\n",
    "        else:\n",
    "            print(f\"Warning: RGB image not found in directory {directory}\")"
   ]
  },
  {
   "cell_type": "code",
   "execution_count": 9,
   "metadata": {
    "colab": {
     "base_uri": "https://localhost:8080/"
    },
    "id": "SC-N-Hq84d2i",
    "outputId": "6b667b07-f590-4331-dda5-49a1afce7069"
   },
   "outputs": [
    {
     "data": {
      "text/plain": [
       "(480, 640, 3)"
      ]
     },
     "execution_count": 9,
     "metadata": {},
     "output_type": "execute_result"
    }
   ],
   "source": [
    "IMAGE_SIZE = processed_images[\"dish_1556575558\"].shape\n",
    "IMAGE_SIZE"
   ]
  },
  {
   "cell_type": "markdown",
   "metadata": {
    "id": "BiHn5bQ1pUbI"
   },
   "source": [
    "## Create image dataframe and normalize the pixel"
   ]
  },
  {
   "cell_type": "code",
   "execution_count": 10,
   "metadata": {
    "id": "tsTYc7Ewrsge"
   },
   "outputs": [],
   "source": [
    "MAX_PIXEL_VALUE = 255\n",
    "processed_images_df = pd.DataFrame([(k, v.flatten()) for k, v in processed_images.items()], columns=['dish_id', 'image'])"
   ]
  },
  {
   "cell_type": "code",
   "execution_count": 11,
   "metadata": {
    "colab": {
     "base_uri": "https://localhost:8080/",
     "height": 206
    },
    "id": "2viNEMFWsEkH",
    "outputId": "ac96b0ea-a292-497c-846c-7f271cc74bf2"
   },
   "outputs": [
    {
     "data": {
      "text/html": [
       "<div>\n",
       "<style scoped>\n",
       "    .dataframe tbody tr th:only-of-type {\n",
       "        vertical-align: middle;\n",
       "    }\n",
       "\n",
       "    .dataframe tbody tr th {\n",
       "        vertical-align: top;\n",
       "    }\n",
       "\n",
       "    .dataframe thead th {\n",
       "        text-align: right;\n",
       "    }\n",
       "</style>\n",
       "<table border=\"1\" class=\"dataframe\">\n",
       "  <thead>\n",
       "    <tr style=\"text-align: right;\">\n",
       "      <th></th>\n",
       "      <th>dish_id</th>\n",
       "      <th>calories</th>\n",
       "      <th>mass</th>\n",
       "      <th>fat</th>\n",
       "      <th>carb</th>\n",
       "      <th>protein</th>\n",
       "    </tr>\n",
       "  </thead>\n",
       "  <tbody>\n",
       "    <tr>\n",
       "      <th>4</th>\n",
       "      <td>dish_1560455030</td>\n",
       "      <td>20.590000</td>\n",
       "      <td>103.0</td>\n",
       "      <td>0.148000</td>\n",
       "      <td>4.625000</td>\n",
       "      <td>0.9560</td>\n",
       "    </tr>\n",
       "    <tr>\n",
       "      <th>5</th>\n",
       "      <td>dish_1558372433</td>\n",
       "      <td>74.360001</td>\n",
       "      <td>143.0</td>\n",
       "      <td>0.286000</td>\n",
       "      <td>0.429000</td>\n",
       "      <td>20.0200</td>\n",
       "    </tr>\n",
       "    <tr>\n",
       "      <th>21</th>\n",
       "      <td>dish_1559844951</td>\n",
       "      <td>274.335999</td>\n",
       "      <td>122.0</td>\n",
       "      <td>17.906000</td>\n",
       "      <td>22.792000</td>\n",
       "      <td>9.7840</td>\n",
       "    </tr>\n",
       "    <tr>\n",
       "      <th>33</th>\n",
       "      <td>dish_1558549008</td>\n",
       "      <td>20.700001</td>\n",
       "      <td>115.0</td>\n",
       "      <td>0.230000</td>\n",
       "      <td>4.485000</td>\n",
       "      <td>1.0350</td>\n",
       "    </tr>\n",
       "    <tr>\n",
       "      <th>34</th>\n",
       "      <td>dish_1560453174</td>\n",
       "      <td>329.716248</td>\n",
       "      <td>256.0</td>\n",
       "      <td>18.145134</td>\n",
       "      <td>10.521854</td>\n",
       "      <td>32.1376</td>\n",
       "    </tr>\n",
       "  </tbody>\n",
       "</table>\n",
       "</div>"
      ],
      "text/plain": [
       "            dish_id    calories   mass        fat       carb  protein\n",
       "4   dish_1560455030   20.590000  103.0   0.148000   4.625000   0.9560\n",
       "5   dish_1558372433   74.360001  143.0   0.286000   0.429000  20.0200\n",
       "21  dish_1559844951  274.335999  122.0  17.906000  22.792000   9.7840\n",
       "33  dish_1558549008   20.700001  115.0   0.230000   4.485000   1.0350\n",
       "34  dish_1560453174  329.716248  256.0  18.145134  10.521854  32.1376"
      ]
     },
     "execution_count": 11,
     "metadata": {},
     "output_type": "execute_result"
    }
   ],
   "source": [
    "raw_data = pd.read_csv(\"./metadata/dish_metadata_cafe1.csv\", on_bad_lines='skip', header=None, usecols=range(6))\n",
    "data = raw_data[raw_data[0].isin(dishes_added)]\n",
    "data.columns = ['dish_id', 'calories', 'mass', 'fat', 'carb', 'protein']\n",
    "data.head()"
   ]
  },
  {
   "cell_type": "code",
   "execution_count": 12,
   "metadata": {
    "colab": {
     "base_uri": "https://localhost:8080/",
     "height": 849
    },
    "id": "9vt08u9S7N1J",
    "outputId": "ac420437-1c8c-4207-8f42-97bdc15174d7"
   },
   "outputs": [
    {
     "data": {
      "text/html": [
       "<div>\n",
       "<style scoped>\n",
       "    .dataframe tbody tr th:only-of-type {\n",
       "        vertical-align: middle;\n",
       "    }\n",
       "\n",
       "    .dataframe tbody tr th {\n",
       "        vertical-align: top;\n",
       "    }\n",
       "\n",
       "    .dataframe thead th {\n",
       "        text-align: right;\n",
       "    }\n",
       "</style>\n",
       "<table border=\"1\" class=\"dataframe\">\n",
       "  <thead>\n",
       "    <tr style=\"text-align: right;\">\n",
       "      <th></th>\n",
       "      <th>dish_id</th>\n",
       "      <th>calories</th>\n",
       "      <th>mass</th>\n",
       "      <th>fat</th>\n",
       "      <th>carb</th>\n",
       "      <th>protein</th>\n",
       "      <th>image</th>\n",
       "    </tr>\n",
       "  </thead>\n",
       "  <tbody>\n",
       "    <tr>\n",
       "      <th>0</th>\n",
       "      <td>dish_1560455030</td>\n",
       "      <td>20.590000</td>\n",
       "      <td>103.0</td>\n",
       "      <td>0.148000</td>\n",
       "      <td>4.625000</td>\n",
       "      <td>0.9560</td>\n",
       "      <td>[133, 136, 137, 135, 138, 139, 138, 138, 138, ...</td>\n",
       "    </tr>\n",
       "    <tr>\n",
       "      <th>1</th>\n",
       "      <td>dish_1558372433</td>\n",
       "      <td>74.360001</td>\n",
       "      <td>143.0</td>\n",
       "      <td>0.286000</td>\n",
       "      <td>0.429000</td>\n",
       "      <td>20.0200</td>\n",
       "      <td>[50, 47, 44, 51, 48, 45, 54, 51, 48, 51, 48, 4...</td>\n",
       "    </tr>\n",
       "    <tr>\n",
       "      <th>2</th>\n",
       "      <td>dish_1559844951</td>\n",
       "      <td>274.335999</td>\n",
       "      <td>122.0</td>\n",
       "      <td>17.906000</td>\n",
       "      <td>22.792000</td>\n",
       "      <td>9.7840</td>\n",
       "      <td>[165, 176, 174, 168, 179, 177, 170, 176, 176, ...</td>\n",
       "    </tr>\n",
       "    <tr>\n",
       "      <th>3</th>\n",
       "      <td>dish_1558549008</td>\n",
       "      <td>20.700001</td>\n",
       "      <td>115.0</td>\n",
       "      <td>0.230000</td>\n",
       "      <td>4.485000</td>\n",
       "      <td>1.0350</td>\n",
       "      <td>[58, 53, 49, 58, 53, 49, 64, 56, 55, 71, 63, 6...</td>\n",
       "    </tr>\n",
       "    <tr>\n",
       "      <th>4</th>\n",
       "      <td>dish_1560453174</td>\n",
       "      <td>329.716248</td>\n",
       "      <td>256.0</td>\n",
       "      <td>18.145134</td>\n",
       "      <td>10.521854</td>\n",
       "      <td>32.1376</td>\n",
       "      <td>[110, 110, 104, 109, 109, 103, 108, 108, 102, ...</td>\n",
       "    </tr>\n",
       "  </tbody>\n",
       "</table>\n",
       "</div>"
      ],
      "text/plain": [
       "           dish_id    calories   mass        fat       carb  protein  \\\n",
       "0  dish_1560455030   20.590000  103.0   0.148000   4.625000   0.9560   \n",
       "1  dish_1558372433   74.360001  143.0   0.286000   0.429000  20.0200   \n",
       "2  dish_1559844951  274.335999  122.0  17.906000  22.792000   9.7840   \n",
       "3  dish_1558549008   20.700001  115.0   0.230000   4.485000   1.0350   \n",
       "4  dish_1560453174  329.716248  256.0  18.145134  10.521854  32.1376   \n",
       "\n",
       "                                               image  \n",
       "0  [133, 136, 137, 135, 138, 139, 138, 138, 138, ...  \n",
       "1  [50, 47, 44, 51, 48, 45, 54, 51, 48, 51, 48, 4...  \n",
       "2  [165, 176, 174, 168, 179, 177, 170, 176, 176, ...  \n",
       "3  [58, 53, 49, 58, 53, 49, 64, 56, 55, 71, 63, 6...  \n",
       "4  [110, 110, 104, 109, 109, 103, 108, 108, 102, ...  "
      ]
     },
     "execution_count": 12,
     "metadata": {},
     "output_type": "execute_result"
    }
   ],
   "source": [
    "data = data.merge(processed_images_df, how='left', on='dish_id')\n",
    "data.head()"
   ]
  },
  {
   "cell_type": "markdown",
   "metadata": {
    "id": "c9l_sS411VmW"
   },
   "source": [
    "# Create X_train, y_train, X_test and y_test"
   ]
  },
  {
   "cell_type": "code",
   "execution_count": 13,
   "metadata": {
    "id": "ZQP02T-91aw5"
   },
   "outputs": [],
   "source": [
    "from sklearn.model_selection import train_test_split"
   ]
  },
  {
   "cell_type": "code",
   "execution_count": 14,
   "metadata": {
    "id": "-bY4kMMYDWBR"
   },
   "outputs": [],
   "source": [
    "def reshape_flatten_image(X):\n",
    "  X_reshape = []\n",
    "  for x in X:\n",
    "    x = x.reshape(-1)\n",
    "    X_reshape.append(x)\n",
    "  return np.array(X_reshape)\n",
    "\n",
    "def reshape_image(X):\n",
    "  X_reshape = []\n",
    "  for x in X:\n",
    "    x = x.reshape(-1,1).reshape(IMAGE_SIZE)\n",
    "    X_reshape.append(x)\n",
    "  return np.array(X_reshape)"
   ]
  },
  {
   "cell_type": "code",
   "execution_count": 15,
   "metadata": {
    "id": "sEltc8L47mfU"
   },
   "outputs": [],
   "source": [
    "train, test = train_test_split(data, train_size=0.8, random_state=0)"
   ]
  },
  {
   "cell_type": "code",
   "execution_count": 16,
   "metadata": {
    "id": "vx0aj9lj8rrH"
   },
   "outputs": [],
   "source": [
    "train, validate = train_test_split(train, train_size=0.9, random_state=00)"
   ]
  },
  {
   "cell_type": "code",
   "execution_count": 17,
   "metadata": {
    "id": "II0kaR8878hk"
   },
   "outputs": [],
   "source": [
    "X_train = reshape_flatten_image(train['image'].values)\n",
    "y_train = train[['mass', 'calories', 'fat', 'protein', 'carb']].values"
   ]
  },
  {
   "cell_type": "code",
   "execution_count": 18,
   "metadata": {
    "id": "BPI8nhcR958S"
   },
   "outputs": [],
   "source": [
    "X_validate = reshape_flatten_image(validate['image'].values)\n",
    "y_validate = validate[['mass', 'calories', 'fat', 'protein', 'carb']].values"
   ]
  },
  {
   "cell_type": "code",
   "execution_count": 19,
   "metadata": {
    "id": "bEV3d_gl8n4J"
   },
   "outputs": [],
   "source": [
    "X_test = reshape_flatten_image(test['image'].values)\n",
    "y_test = test[['mass', 'calories', 'fat', 'protein', 'carb']].values"
   ]
  },
  {
   "cell_type": "markdown",
   "metadata": {
    "id": "uafd2KiugY_d"
   },
   "source": [
    "## Reshaping flatten image"
   ]
  },
  {
   "cell_type": "code",
   "execution_count": 20,
   "metadata": {
    "id": "8Z3MUSdXgcv5"
   },
   "outputs": [],
   "source": [
    "X_train = reshape_image(X_train)\n",
    "X_validate = reshape_image(X_validate)\n",
    "X_test = reshape_image(X_test)"
   ]
  },
  {
   "cell_type": "code",
   "execution_count": 21,
   "metadata": {
    "colab": {
     "base_uri": "https://localhost:8080/"
    },
    "id": "hj1_SCkUm-bE",
    "outputId": "4deb27cd-303d-46cf-b11a-faf0f1d0b04c"
   },
   "outputs": [
    {
     "data": {
      "text/plain": [
       "(717, 480, 640, 3)"
      ]
     },
     "execution_count": 21,
     "metadata": {},
     "output_type": "execute_result"
    }
   ],
   "source": [
    "X_train.shape"
   ]
  },
  {
   "cell_type": "markdown",
   "metadata": {
    "id": "hgG67tWoDB_v"
   },
   "source": [
    "# Create Model"
   ]
  },
  {
   "cell_type": "code",
   "execution_count": 22,
   "metadata": {
    "id": "BVlz2FE5-Nez"
   },
   "outputs": [
    {
     "name": "stderr",
     "output_type": "stream",
     "text": [
      "2024-04-11 22:03:30.392784: I tensorflow/core/platform/cpu_feature_guard.cc:182] This TensorFlow binary is optimized to use available CPU instructions in performance-critical operations.\n",
      "To enable the following instructions: SSE4.1 SSE4.2 AVX AVX2 AVX_VNNI FMA, in other operations, rebuild TensorFlow with the appropriate compiler flags.\n"
     ]
    }
   ],
   "source": [
    "import tensorflow as tf\n",
    "from tensorflow import keras\n",
    "from keras.models import Sequential\n",
    "from keras.layers import Conv2D, MaxPooling2D, Flatten, Dense, RandomFlip, RandomContrast, RandomRotation"
   ]
  },
  {
   "cell_type": "code",
   "execution_count": 23,
   "metadata": {
    "id": "JbZ4SvL3DET-"
   },
   "outputs": [],
   "source": [
    "def create_model(input_shape):\n",
    "    model = Sequential()\n",
    "\n",
    "    # Pre-trained network (encoder)\n",
    "    base_model = keras.applications.ResNet152V2(\n",
    "        include_top=False,\n",
    "        weights='imagenet',\n",
    "        input_shape=input_shape)\n",
    "\n",
    "    base_model.trainable = False\n",
    "\n",
    "    model.add(base_model)\n",
    "\n",
    "    # Flatten layer\n",
    "    model.add(Flatten())\n",
    "\n",
    "    # Fully connected layers\n",
    "    model.add(Dense(128, activation='relu'))\n",
    "    model.add(Dense(64, activation='relu'))\n",
    "\n",
    "    # Output layer\n",
    "    model.add(Dense(5, activation='linear'))  # 5 neurons for mass, calories, fats, protein, carbs\n",
    "\n",
    "    return model"
   ]
  },
  {
   "cell_type": "markdown",
   "metadata": {
    "id": "5HnftEgDdxXm"
   },
   "source": [
    "# Loss Function\n",
    "\n",
    "For the model above, we use MSE as the loss function to train the model.\\\n",
    "Now we try out the loss function that was provided in the google paper.\n",
    "\n",
    "![image.png](data:image/png;base64,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)"
   ]
  },
  {
   "cell_type": "code",
   "execution_count": 24,
   "metadata": {
    "id": "4Oh8YwWmd-E5"
   },
   "outputs": [],
   "source": [
    "# output = [calories, mass, fat, carb, protein]\n",
    "\n",
    "def multi_loss(actual, pred):\n",
    "    actual = tf.squeeze(actual)\n",
    "    pred = tf.squeeze(pred)\n",
    "\n",
    "    pred = tf.cast(pred, dtype=actual.dtype)\n",
    "\n",
    "    temp = tf.abs(actual - pred)\n",
    "\n",
    "    l_multi = tf.reduce_mean(tf.reduce_sum(temp[:, 2:], axis=1))\n",
    "\n",
    "    l = tf.reduce_mean(tf.reduce_sum(temp[:, :2], axis=1) + l_multi)\n",
    "\n",
    "    return l\n",
    "\n",
    "# multi_loss(y_test, y_pred)"
   ]
  },
  {
   "cell_type": "markdown",
   "metadata": {
    "id": "qiFlqivV-bbf"
   },
   "source": [
    "# Train Model\n",
    "\n",
    "Create a model that uses `adam` optimizer and loss function as `MSE`"
   ]
  },
  {
   "cell_type": "code",
   "execution_count": 25,
   "metadata": {
    "id": "lFCJebJm-dpy"
   },
   "outputs": [],
   "source": [
    "epochs = 2\n",
    "batch_size = 32"
   ]
  },
  {
   "cell_type": "code",
   "execution_count": 26,
   "metadata": {
    "colab": {
     "base_uri": "https://localhost:8080/"
    },
    "id": "CS1vjtlN-7fY",
    "outputId": "5c11f762-4f2d-4d23-ad4f-815f5b726b4c"
   },
   "outputs": [
    {
     "name": "stderr",
     "output_type": "stream",
     "text": [
      "2024-04-11 22:03:35.357420: I tensorflow/core/common_runtime/process_util.cc:146] Creating new thread pool with default inter op setting: 2. Tune using inter_op_parallelism_threads for best performance.\n"
     ]
    }
   ],
   "source": [
    "# Create the model\n",
    "model = create_model(IMAGE_SIZE)\n",
    "\n",
    "# Compile the model\n",
    "model.compile(optimizer='adam', loss='mse', metrics=['mae'])"
   ]
  },
  {
   "cell_type": "code",
   "execution_count": 27,
   "metadata": {
    "colab": {
     "base_uri": "https://localhost:8080/"
    },
    "id": "lYNebnrnAok_",
    "outputId": "0ba9dbe5-5cd9-4501-8f88-23270efac7d3"
   },
   "outputs": [
    {
     "name": "stdout",
     "output_type": "stream",
     "text": [
      "Epoch 1/2\n",
      "23/23 [==============================] - 264s 11s/step - loss: 125007840.0000 - mae: 5895.3423 - val_loss: 4867330.5000 - val_mae: 2079.0647\n",
      "Epoch 2/2\n",
      "23/23 [==============================] - 289s 13s/step - loss: 2415906.0000 - mae: 1236.9640 - val_loss: 717901.4375 - val_mae: 684.3462\n"
     ]
    }
   ],
   "source": [
    "history = model.fit(X_train, y_train, epochs=epochs, batch_size=batch_size, validation_data=(X_validate, y_validate))"
   ]
  },
  {
   "cell_type": "code",
   "execution_count": 28,
   "metadata": {
    "colab": {
     "base_uri": "https://localhost:8080/"
    },
    "id": "Tyk0EVdXBGl-",
    "outputId": "6e39fca5-06a5-406b-eb09-548bebd0c652"
   },
   "outputs": [
    {
     "name": "stdout",
     "output_type": "stream",
     "text": [
      "7/7 [==============================] - 46s 7s/step - loss: 738944.1875 - mae: 699.9249\n"
     ]
    },
    {
     "data": {
      "text/plain": [
       "[738944.1875, 699.9249267578125]"
      ]
     },
     "execution_count": 28,
     "metadata": {},
     "output_type": "execute_result"
    }
   ],
   "source": [
    "model.evaluate(X_test, y_test)"
   ]
  },
  {
   "cell_type": "markdown",
   "metadata": {
    "id": "067iy7XEkhX7"
   },
   "source": [
    "# Train Model\n",
    "\n",
    "Create a model that uses `adam` optimizer and loss function as `multi_loss`"
   ]
  },
  {
   "cell_type": "code",
   "execution_count": 29,
   "metadata": {
    "id": "J0wtblnXkhYC"
   },
   "outputs": [],
   "source": [
    "epochs = 10\n",
    "batch_size = 32"
   ]
  },
  {
   "cell_type": "code",
   "execution_count": 30,
   "metadata": {
    "id": "CUWp4_Q6khYC"
   },
   "outputs": [],
   "source": [
    "# Create the model\n",
    "model = create_model(IMAGE_SIZE)\n",
    "\n",
    "# Compile the model\n",
    "model.compile(optimizer='adam', loss=multi_loss, metrics=['mae', multi_loss])"
   ]
  },
  {
   "cell_type": "code",
   "execution_count": 31,
   "metadata": {
    "colab": {
     "base_uri": "https://localhost:8080/"
    },
    "id": "9xEUChkfkhYD",
    "outputId": "7490f232-937c-4a97-e133-b6e206318170"
   },
   "outputs": [
    {
     "name": "stdout",
     "output_type": "stream",
     "text": [
      "Epoch 1/10\n",
      "23/23 [==============================] - 301s 13s/step - loss: 60796.1016 - mae: 12159.2236 - multi_loss: 59945.8438 - val_loss: 21100.3457 - val_mae: 4220.0693 - val_multi_loss: 21065.2402\n",
      "Epoch 2/10\n",
      "23/23 [==============================] - 289s 13s/step - loss: 11142.7607 - mae: 2228.5525 - multi_loss: 11093.5439 - val_loss: 7999.6587 - val_mae: 1599.9319 - val_multi_loss: 8023.8022\n",
      "Epoch 3/10\n",
      "23/23 [==============================] - 298s 13s/step - loss: 11208.9932 - mae: 2241.7983 - multi_loss: 11192.4141 - val_loss: 11601.2783 - val_mae: 2320.2556 - val_multi_loss: 11578.0908\n",
      "Epoch 4/10\n",
      "23/23 [==============================] - 303s 13s/step - loss: 12417.1826 - mae: 2483.4368 - multi_loss: 12504.7812 - val_loss: 14350.5332 - val_mae: 2870.1067 - val_multi_loss: 14410.3408\n",
      "Epoch 5/10\n",
      "23/23 [==============================] - 303s 13s/step - loss: 15062.4893 - mae: 3012.4978 - multi_loss: 14988.5840 - val_loss: 13979.9580 - val_mae: 2795.9915 - val_multi_loss: 13987.7627\n",
      "Epoch 6/10\n",
      "23/23 [==============================] - 311s 14s/step - loss: 10736.6943 - mae: 2147.3384 - multi_loss: 10699.6504 - val_loss: 15855.4531 - val_mae: 3171.0903 - val_multi_loss: 15762.5127\n",
      "Epoch 7/10\n",
      "23/23 [==============================] - 316s 14s/step - loss: 17823.2949 - mae: 3564.6594 - multi_loss: 17758.4062 - val_loss: 24329.9727 - val_mae: 4865.9946 - val_multi_loss: 24238.4668\n",
      "Epoch 8/10\n",
      "23/23 [==============================] - 341s 15s/step - loss: 14553.4668 - mae: 2910.6934 - multi_loss: 14559.6318 - val_loss: 5806.5713 - val_mae: 1161.3142 - val_multi_loss: 5904.0503\n",
      "Epoch 9/10\n",
      "23/23 [==============================] - 327s 14s/step - loss: 11876.4746 - mae: 2375.2949 - multi_loss: 11909.4238 - val_loss: 7785.9282 - val_mae: 1557.1857 - val_multi_loss: 7790.9155\n",
      "Epoch 10/10\n",
      "23/23 [==============================] - 340s 15s/step - loss: 8861.6084 - mae: 1772.3220 - multi_loss: 8822.1738 - val_loss: 8352.8486 - val_mae: 1670.5696 - val_multi_loss: 8374.6514\n"
     ]
    }
   ],
   "source": [
    "history = model.fit(X_train, y_train, epochs=epochs, batch_size=batch_size, validation_data=(X_validate, y_validate))"
   ]
  },
  {
   "cell_type": "code",
   "execution_count": 32,
   "metadata": {
    "id": "IT5RoC6EkhYD"
   },
   "outputs": [
    {
     "name": "stdout",
     "output_type": "stream",
     "text": [
      "7/7 [==============================] - 81s 11s/step - loss: 8241.4785 - mae: 1648.2958 - multi_loss: 8256.4951\n"
     ]
    },
    {
     "data": {
      "text/plain": [
       "[8241.478515625, 1648.2957763671875, 8256.4951171875]"
      ]
     },
     "execution_count": 32,
     "metadata": {},
     "output_type": "execute_result"
    }
   ],
   "source": [
    "model.evaluate(X_test, y_test)"
   ]
  },
  {
   "cell_type": "markdown",
   "metadata": {
    "id": "rClkbSRN-TSO"
   },
   "source": [
    "# Train Model\n",
    "\n",
    "Create a model that uses `RMSProp` optimizer and loss function as `multi_loss`"
   ]
  },
  {
   "cell_type": "code",
   "execution_count": 33,
   "metadata": {
    "id": "lHzOYsSb-TSV"
   },
   "outputs": [],
   "source": [
    "epochs = 10\n",
    "batch_size = 32"
   ]
  },
  {
   "cell_type": "code",
   "execution_count": 34,
   "metadata": {
    "id": "KQ6KDMFV-TSW"
   },
   "outputs": [],
   "source": [
    "# Create the model\n",
    "model = create_model(IMAGE_SIZE)\n",
    "\n",
    "optimizer = tf.keras.optimizers.RMSprop(learning_rate=1e-4, momentum=0.9, weight_decay=0.9, epsilon=1.0)\n",
    "\n",
    "# Compile the model\n",
    "model.compile(optimizer=optimizer, loss=multi_loss, metrics=['mae', multi_loss])"
   ]
  },
  {
   "cell_type": "code",
   "execution_count": null,
   "metadata": {
    "id": "d2ll3Ybi-TSW"
   },
   "outputs": [
    {
     "name": "stdout",
     "output_type": "stream",
     "text": [
      "Epoch 1/10\n",
      "23/23 [==============================] - 327s 14s/step - loss: 58447.6602 - mae: 11689.5332 - multi_loss: 58012.6641 - val_loss: 65349.5859 - val_mae: 13069.9180 - val_multi_loss: 65419.6055\n",
      "Epoch 2/10\n",
      "23/23 [==============================] - 330s 14s/step - loss: 45377.9297 - mae: 9075.5850 - multi_loss: 44888.6016 - val_loss: 29975.8008 - val_mae: 5995.1597 - val_multi_loss: 30206.9609\n",
      "Epoch 3/10\n",
      "23/23 [==============================] - 343s 15s/step - loss: 46218.2773 - mae: 9243.6562 - multi_loss: 45977.1641 - val_loss: 27373.7500 - val_mae: 5474.7500 - val_multi_loss: 27421.7285\n",
      "Epoch 4/10\n",
      "23/23 [==============================] - 330s 15s/step - loss: 30662.1699 - mae: 6132.4346 - multi_loss: 30898.5605 - val_loss: 32870.2930 - val_mae: 6574.0586 - val_multi_loss: 32996.4219\n",
      "Epoch 5/10\n",
      "23/23 [==============================] - 338s 15s/step - loss: 24449.7324 - mae: 4889.9468 - multi_loss: 24271.1992 - val_loss: 26082.3516 - val_mae: 5216.4697 - val_multi_loss: 26126.2520\n",
      "Epoch 6/10\n",
      "23/23 [==============================] - 325s 14s/step - loss: 30171.5449 - mae: 6034.3096 - multi_loss: 30032.9219 - val_loss: 29408.9531 - val_mae: 5881.7900 - val_multi_loss: 29328.9082\n",
      "Epoch 7/10\n",
      "23/23 [==============================] - 309s 13s/step - loss: 30910.5332 - mae: 6182.1074 - multi_loss: 30972.2773 - val_loss: 31972.4688 - val_mae: 6394.4932 - val_multi_loss: 31893.5801\n",
      "Epoch 8/10\n",
      "23/23 [==============================] - 369s 16s/step - loss: 27568.6973 - mae: 5513.7397 - multi_loss: 27782.9375 - val_loss: 45759.5039 - val_mae: 9151.9004 - val_multi_loss: 45704.5195\n",
      "Epoch 9/10\n",
      "23/23 [==============================] - 320s 14s/step - loss: 30706.9453 - mae: 6141.3882 - multi_loss: 30467.5078 - val_loss: 23221.6348 - val_mae: 4644.3271 - val_multi_loss: 23159.7559\n",
      "Epoch 10/10\n",
      "15/23 [==================>...........] - ETA: 2:45 - loss: 25275.8516 - mae: 5055.1709 - multi_loss: 25275.8516"
     ]
    }
   ],
   "source": [
    "history = model.fit(X_train, y_train, epochs=epochs, batch_size=batch_size, validation_data=(X_validate, y_validate))"
   ]
  },
  {
   "cell_type": "code",
   "execution_count": 1,
   "metadata": {
    "id": "kEaqpglw-TSW"
   },
   "outputs": [
    {
     "ename": "NameError",
     "evalue": "name 'model' is not defined",
     "output_type": "error",
     "traceback": [
      "\u001b[0;31m---------------------------------------------------------------------------\u001b[0m",
      "\u001b[0;31mNameError\u001b[0m                                 Traceback (most recent call last)",
      "Cell \u001b[0;32mIn[1], line 1\u001b[0m\n\u001b[0;32m----> 1\u001b[0m model\u001b[38;5;241m.\u001b[39mevaluate(X_test, y_test)\n",
      "\u001b[0;31mNameError\u001b[0m: name 'model' is not defined"
     ]
    }
   ],
   "source": [
    "model.evaluate(X_test, y_test)"
   ]
  },
  {
   "cell_type": "code",
   "execution_count": null,
   "metadata": {},
   "outputs": [],
   "source": []
  }
 ],
 "metadata": {
  "colab": {
   "collapsed_sections": [
    "-XHd4GNVcI4F",
    "GE4zNzU_c9Wb",
    "hgG67tWoDB_v",
    "qiFlqivV-bbf",
    "5HnftEgDdxXm",
    "067iy7XEkhX7",
    "rClkbSRN-TSO"
   ],
   "provenance": []
  },
  "kernelspec": {
   "display_name": "Python 3 (ipykernel)",
   "language": "python",
   "name": "python3"
  },
  "language_info": {
   "codemirror_mode": {
    "name": "ipython",
    "version": 3
   },
   "file_extension": ".py",
   "mimetype": "text/x-python",
   "name": "python",
   "nbconvert_exporter": "python",
   "pygments_lexer": "ipython3",
   "version": "3.11.5"
  }
 },
 "nbformat": 4,
 "nbformat_minor": 4
}
